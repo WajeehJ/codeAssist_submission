{
 "cells": [
  {
   "cell_type": "code",
   "execution_count": 5,
   "id": "ef49b2b5",
   "metadata": {},
   "outputs": [],
   "source": [
    "import docker\n",
    "import os \n",
    "import zipfile\n",
    "import tempfile"
   ]
  },
  {
   "cell_type": "code",
   "execution_count": 7,
   "id": "5f6c5c68",
   "metadata": {},
   "outputs": [],
   "source": [
    "client = docker.from_env()"
   ]
  },
  {
   "cell_type": "code",
   "execution_count": 8,
   "id": "5240a136",
   "metadata": {},
   "outputs": [],
   "source": [
    "def build_image(zip_path, image_tag, target_dir):\n",
    "    with tempfile.TemporaryDirectory() as build_ctx:\n",
    "        # 1. Extract zip into temp dir/autograder\n",
    "        extract_dir = os.path.join(build_ctx, \"autograder\")\n",
    "        os.makedirs(extract_dir, exist_ok=True)\n",
    "        with zipfile.ZipFile(zip_path, \"r\") as zf:\n",
    "            zf.extractall(extract_dir)\n",
    "\n",
    "        # 2. Write a Dockerfile into build context\n",
    "        dockerfile_path = os.path.join(build_ctx, \"Dockerfile\")\n",
    "        with open(dockerfile_path, \"w\") as df:\n",
    "            df.write(f\"\"\"\n",
    "                        FROM python:3.11-slim\n",
    "\n",
    "                        RUN mkdir -p {target_dir}\n",
    "\n",
    "                        # Copy extracted files into container\n",
    "                        COPY autograder/ {target_dir}/\n",
    "\n",
    "                        WORKDIR {target_dir}\n",
    "                    \"\"\")\n",
    "\n",
    "        # 3. Build the image\n",
    "        image, logs = client.images.build(\n",
    "            path=build_ctx,\n",
    "            tag=image_tag,\n",
    "            rm=True\n",
    "        )\n",
    "\n",
    "    return image "
   ]
  },
  {
   "cell_type": "code",
   "execution_count": 9,
   "id": "5e3bbc94",
   "metadata": {},
   "outputs": [],
   "source": [
    "autograder_image = build_image(\"./assignment-examples/A1/A1.zip\", \"autograder-image\", \"/autograder\")"
   ]
  },
  {
   "cell_type": "code",
   "execution_count": null,
   "id": "fc8a78d6",
   "metadata": {},
   "outputs": [],
   "source": [
    "def create_container(image):\n",
    "    \n",
    "    container = client.containers.create(image)\n",
    "\n",
    "    return container"
   ]
  },
  {
   "cell_type": "code",
   "execution_count": 11,
   "id": "b0261897",
   "metadata": {},
   "outputs": [],
   "source": [
    "a1_container = create_container(autograder_image)"
   ]
  },
  {
   "cell_type": "code",
   "execution_count": 12,
   "id": "83196f27",
   "metadata": {},
   "outputs": [
    {
     "data": {
      "text/plain": [
       "[<Container: 809fdeeda37d>, <Container: c13a61750c2f>]"
      ]
     },
     "execution_count": 12,
     "metadata": {},
     "output_type": "execute_result"
    }
   ],
   "source": [
    "client.containers.list()"
   ]
  }
 ],
 "metadata": {
  "kernelspec": {
   "display_name": ".venv",
   "language": "python",
   "name": "python3"
  },
  "language_info": {
   "codemirror_mode": {
    "name": "ipython",
    "version": 3
   },
   "file_extension": ".py",
   "mimetype": "text/x-python",
   "name": "python",
   "nbconvert_exporter": "python",
   "pygments_lexer": "ipython3",
   "version": "3.13.5"
  }
 },
 "nbformat": 4,
 "nbformat_minor": 5
}
